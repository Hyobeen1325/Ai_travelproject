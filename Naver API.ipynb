{
 "cells": [
  {
   "cell_type": "code",
   "execution_count": 2,
   "id": "95e28f0b",
   "metadata": {},
   "outputs": [
    {
     "name": "stdout",
     "output_type": "stream",
     "text": [
      "호보식당 - 서울특별시 강남구 역삼동 741-12 1층\n",
      "호보식당 신사역직영점 - 서울특별시 강남구 신사동 510 1층 102호\n",
      "다몽집 신논현본점 - 서울특별시 강남구 역삼동 619-5 지하1층/2층 다몽집\n",
      "양인환대 - 서울특별시 강남구 도곡동 954-16 1층\n",
      "팔백집 <b>강남</b>점 - 서울특별시 강남구 역삼동 810-2 1층\n"
     ]
    }
   ],
   "source": [
    "import requests\n",
    "\n",
    "keyword = \"강남갈비집\"\n",
    "url = f\"http://localhost:8080/naver/search?text={keyword}\"\n",
    "\n",
    "response = requests.get(url)\n",
    "data = response.json()\n",
    "\n",
    "for item in data['items']:\n",
    "    print(item['title'], \"-\", item['address'])"
   ]
  }
 ],
 "metadata": {
  "kernelspec": {
   "display_name": ".venv",
   "language": "python",
   "name": "python3"
  },
  "language_info": {
   "codemirror_mode": {
    "name": "ipython",
    "version": 3
   },
   "file_extension": ".py",
   "mimetype": "text/x-python",
   "name": "python",
   "nbconvert_exporter": "python",
   "pygments_lexer": "ipython3",
   "version": "3.10.6"
  }
 },
 "nbformat": 4,
 "nbformat_minor": 5
}
