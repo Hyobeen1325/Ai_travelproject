{
 "cells": [
  {
   "cell_type": "code",
   "execution_count": 1,
   "metadata": {},
   "outputs": [
    {
     "name": "stderr",
     "output_type": "stream",
     "text": [
      "c:\\Python310\\lib\\site-packages\\tqdm\\auto.py:21: TqdmWarning: IProgress not found. Please update jupyter and ipywidgets. See https://ipywidgets.readthedocs.io/en/stable/user_install.html\n",
      "  from .autonotebook import tqdm as notebook_tqdm\n"
     ]
    }
   ],
   "source": [
    "import ollama\n",
    "import gradio as gr\n",
    "import base64\n",
    "from PIL import Image\n",
    "import io"
   ]
  },
  {
   "cell_type": "code",
   "execution_count": 2,
   "metadata": {},
   "outputs": [],
   "source": [
    "def encode_image(image_path):\n",
    "    \"\"\"Encode image to base64 string\"\"\"\n",
    "    with open(image_path, \"rb\") as image_file:     # rb: 바이너리 읽기(이미지는 0,1 형태의 바이너리)\n",
    "        return base64.b64encode(image_file.read()).decode('utf-8')"
   ]
  },
  {
   "cell_type": "code",
   "execution_count": 3,
   "metadata": {},
   "outputs": [],
   "source": [
    "def analyze_image_with_gemma(image):\n",
    "    \"\"\"Ollama Gemma 3 4B model을 사용하여 이미지 분석\"\"\"\n",
    "    try:\n",
    "        # Convert Gradio image to PIL Image\n",
    "        pil_image = Image.fromarray(image)   # PIL(이미지처리, 조작) 이미지 객체로 변환\n",
    "\n",
    "        # Save image to a temporary buffer\n",
    "        buffer = io.BytesIO()  # 메모리 상에 임시 버퍼를 만들어서 이미지 데이터 저장\n",
    "        pil_image.save(buffer, format=\"PNG\")\n",
    "\n",
    "        # Encode image to base64\n",
    "        encoded_image = base64.b64encode(buffer.getvalue()).decode('utf-8')  # 임시 버퍼에 저장된 이미지 데이터를 바이트 문자열로 가져옴\n",
    "\n",
    "        # Perform image analysis using Ollama Gemma3\n",
    "        response = ollama.chat(\n",
    "            model='gemma3:latest',\n",
    "            messages=[\n",
    "                {\n",
    "                    'role': 'user',\n",
    "                    'content': '이미지의 내용을 자세히 설명해줘. 무엇이 보이는지, 색상, 구성, 감정 등을 포함해서 분석해줘.', #prompt\n",
    "                    'images': [encoded_image]\n",
    "                }\n",
    "            ]\n",
    "        )\n",
    "\n",
    "        return response['message']['content']\n",
    "\n",
    "    except Exception as e:\n",
    "        return f\"이미지 분석 중 오류 발생: {str(e)}\""
   ]
  },
  {
   "cell_type": "code",
   "execution_count": 4,
   "metadata": {},
   "outputs": [],
   "source": [
    "iface = gr.Interface(\n",
    "        fn=analyze_image_with_gemma,\n",
    "        inputs=gr.Image(type=\"numpy\", label=\"이미지 업로드\"),\n",
    "        outputs=gr.Textbox(label=\"이미지 분석 결과\"),\n",
    "        title=\"Ollama Gemma3 이미지 분석기\",\n",
    "        description=\"이미지를 업로드하면 Gemma 3 4B 모델이 분석해드립니다.\"\n",
    "    )"
   ]
  },
  {
   "cell_type": "code",
   "execution_count": 5,
   "metadata": {},
   "outputs": [
    {
     "name": "stdout",
     "output_type": "stream",
     "text": [
      "* Running on local URL:  http://127.0.0.1:7860\n",
      "\n",
      "To create a public link, set `share=True` in `launch()`.\n"
     ]
    },
    {
     "data": {
      "text/html": [
       "<div><iframe src=\"http://127.0.0.1:7860/\" width=\"100%\" height=\"500\" allow=\"autoplay; camera; microphone; clipboard-read; clipboard-write;\" frameborder=\"0\" allowfullscreen></iframe></div>"
      ],
      "text/plain": [
       "<IPython.core.display.HTML object>"
      ]
     },
     "metadata": {},
     "output_type": "display_data"
    },
    {
     "data": {
      "text/plain": []
     },
     "execution_count": 5,
     "metadata": {},
     "output_type": "execute_result"
    }
   ],
   "source": [
    "iface.launch()"
   ]
  },
  {
   "cell_type": "code",
   "execution_count": 6,
   "metadata": {},
   "outputs": [
    {
     "name": "stdout",
     "output_type": "stream",
     "text": [
      "Closing server running on port: 7860\n"
     ]
    }
   ],
   "source": [
    "iface.close()"
   ]
  },
  {
   "cell_type": "code",
   "execution_count": null,
   "metadata": {},
   "outputs": [],
   "source": []
  }
 ],
 "metadata": {
  "kernelspec": {
   "display_name": "Python 3",
   "language": "python",
   "name": "python3"
  },
  "language_info": {
   "codemirror_mode": {
    "name": "ipython",
    "version": 3
   },
   "file_extension": ".py",
   "mimetype": "text/x-python",
   "name": "python",
   "nbconvert_exporter": "python",
   "pygments_lexer": "ipython3",
   "version": "3.10.6"
  }
 },
 "nbformat": 4,
 "nbformat_minor": 2
}
